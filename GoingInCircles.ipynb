{
 "cells": [
  {
   "cell_type": "markdown",
   "metadata": {},
   "source": [
    "# Rolling dice markov chain example\n",
    "$win = 1/6$\n",
    "\n",
    "$roll\\ again = 1/3$\n",
    "\n",
    "$pass = 1/2$\n",
    "\n",
    "Each row coordinates with the beginning position\n",
    "Each colomn coordinates with the end position\n",
    "$$ P =\n",
    "\\begin{bmatrix}\n",
    "p_{11} & p_{12} & p_{11'} & p_{12'}\\\\\n",
    "p_{21} & p_{22} & p_{21'} & p_{22'}\\\\\n",
    "p_{1'1} & p_{1'2} & p_{1'1'} & p_{1'2'}\\\\\n",
    "p_{2'1} & p_{2'2} & p_{2'1'} & p_{2'2'}\n",
    "\\end{bmatrix}\n",
    "=\n",
    "\\begin{bmatrix}\n",
    "roll\\ again & pass & win & 0\\\\\n",
    "pass & roll\\ again & 0 & win\\\\\n",
    "0 & 0 & 1 & 0\\\\\n",
    "0 & 0 & 0 & 1\n",
    "\\end{bmatrix}\n",
    "$$\n",
    "\n",
    "$p_{11'}(n)$ is the probability that player 1 will win given n rolls.\n",
    "\n",
    "![](https://cdn.mathpix.com/snip/images/hICl4OF_2WACgnl0M5gvYMc5lDP5jor7rNQTlSC7M54.original.fullsize.png)\n"
   ]
  },
  {
   "cell_type": "markdown",
   "metadata": {},
   "source": [
    "# Project Start"
   ]
  }
 ],
 "metadata": {
  "language_info": {
   "codemirror_mode": {
    "name": "ipython",
    "version": 3
   },
   "file_extension": ".py",
   "mimetype": "text/x-python",
   "name": "python",
   "nbconvert_exporter": "python",
   "pygments_lexer": "ipython3",
   "version": "3.8.2-final"
  },
  "orig_nbformat": 2,
  "kernelspec": {
   "name": "julia-1.4",
   "display_name": "Julia 1.4.2"
  }
 },
 "nbformat": 4,
 "nbformat_minor": 2
}